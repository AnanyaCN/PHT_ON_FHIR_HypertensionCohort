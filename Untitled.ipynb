{
 "cells": [
  {
   "cell_type": "code",
   "execution_count": 2,
   "metadata": {},
   "outputs": [
    {
     "data": {
      "text/plain": [
       "<Figure size 598x500 with 1 Axes>"
      ]
     },
     "metadata": {},
     "output_type": "display_data"
    }
   ],
   "source": [
    "import json\n",
    "\n",
    "\n",
    "baseURl_syntheticMass = \"https://syntheticmass.mitre.org/v1/fhir/\"\n",
    "apikey_syntheticMass = \"&apikey=cMEml0Gs1o2uX9WhRcEVcVKYg97OnHgI\"\n",
    "\n",
    "\n",
    "import fhir as fhir\n",
    "outputJson_syntheticMass = fhir.runCohortAnalyse(endpointUrl= baseURl_syntheticMass, endpointToken=apikey_syntheticMass)\n",
    "\n",
    "# Write output to file\n",
    "with open('output.txt', 'w') as f:\n",
    "    f.write(json.dumps(outputJson_syntheticMass))"
   ]
  },
  {
   "cell_type": "code",
   "execution_count": null,
   "metadata": {},
   "outputs": [],
   "source": []
  }
 ],
 "metadata": {
  "kernelspec": {
   "display_name": "Python 3",
   "language": "python",
   "name": "python3"
  },
  "language_info": {
   "codemirror_mode": {
    "name": "ipython",
    "version": 3
   },
   "file_extension": ".py",
   "mimetype": "text/x-python",
   "name": "python",
   "nbconvert_exporter": "python",
   "pygments_lexer": "ipython3",
   "version": "3.7.3"
  }
 },
 "nbformat": 4,
 "nbformat_minor": 2
}
